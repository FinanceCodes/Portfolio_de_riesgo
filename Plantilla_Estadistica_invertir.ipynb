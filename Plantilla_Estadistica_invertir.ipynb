{
 "cells": [
  {
   "cell_type": "code",
   "execution_count": 4,
   "id": "3a69c2f0",
   "metadata": {},
   "outputs": [],
   "source": [
    "import yfinance as yf\n",
    "import numpy as np\n",
    "import matplotlib as plt"
   ]
  },
  {
   "cell_type": "code",
   "execution_count": 5,
   "id": "871673f9",
   "metadata": {},
   "outputs": [
    {
     "name": "stdout",
     "output_type": "stream",
     "text": [
      "[*********************100%***********************]  1 of 1 completed\n"
     ]
    }
   ],
   "source": [
    "import yfinance as yf\n",
    "data = yf.download(\"AAPL\").tail(252) \n",
    "\n"
   ]
  },
  {
   "cell_type": "markdown",
   "id": "ffda98ce",
   "metadata": {},
   "source": [
    "# Desviacion estandar %\n",
    "\n",
    "\n",
    "\n",
    "La desviación estándar mide la dispersión de una distribución de datos. Entre más dispersa está una distribución de datos, más grande es su desviación estándar.(RIESGO, VOLATILIDAD)"
   ]
  },
  {
   "cell_type": "code",
   "execution_count": 6,
   "id": "70b117e4",
   "metadata": {},
   "outputs": [
    {
     "data": {
      "text/plain": [
       "12.286179305201552"
      ]
     },
     "execution_count": 6,
     "metadata": {},
     "output_type": "execute_result"
    }
   ],
   "source": [
    "vol = data[\"Adj Close\"]\n",
    "volt = np.std(vol)\n",
    "volt"
   ]
  },
  {
   "cell_type": "markdown",
   "id": "c4428313",
   "metadata": {},
   "source": [
    "# Retorno %\n",
    "\n",
    "\n",
    "El retorno de la inversión es el dinero que un inversor gana en un negocio por la inyección de capital"
   ]
  },
  {
   "cell_type": "code",
   "execution_count": 7,
   "id": "a8c782d6",
   "metadata": {},
   "outputs": [
    {
     "data": {
      "text/plain": [
       "-0.40001036093086384"
      ]
     },
     "execution_count": 7,
     "metadata": {},
     "output_type": "execute_result"
    }
   ],
   "source": [
    "data1 = float(data.head(1)[\"Adj Close\"])\n",
    "data2 = float(data.tail(1)[\"Adj Close\"])\n",
    "Beneficio_0 = float((data2 * 100) / data1)\n",
    "Beneficio_1 = float(Beneficio_0 - 100)\n",
    "Beneficio_1"
   ]
  },
  {
   "cell_type": "markdown",
   "id": "e7ed433a",
   "metadata": {},
   "source": [
    "# Ratio Sharpe\n",
    "\n",
    "\n",
    "El modelo de Sharpe trata de minimizar el riesgo sistemático de una cartera de activos, el cual viene dado por las respuestas individuales de los activos al comportamiento global del mercado. "
   ]
  },
  {
   "cell_type": "code",
   "execution_count": 16,
   "id": "49af0d08",
   "metadata": {},
   "outputs": [
    {
     "data": {
      "text/plain": [
       "-0.343476214704457"
      ]
     },
     "execution_count": 16,
     "metadata": {},
     "output_type": "execute_result"
    }
   ],
   "source": [
    "ratio_sharpe = float((Beneficio_1 - 3.820) / volt) #Letras a 3 Meses \n",
    "ratio_sharpe\n",
    "\n",
    "#UN VALOR >= 1 ES ACEPTABLE\n",
    "#UN VALOR >= 2 ES MUY BUENO\n",
    "#UN VALOR >= 3 ES EXCELENTE"
   ]
  },
  {
   "cell_type": "markdown",
   "id": "6afb8d12",
   "metadata": {},
   "source": [
    "# Rentabilidad del benchmark %\n",
    "\n",
    "El benchmark es el índice de referencia utilizado para seguir la evolución de un mercado o para medir el rendimiento de una cartera"
   ]
  },
  {
   "cell_type": "code",
   "execution_count": 9,
   "id": "3e2c9eff",
   "metadata": {},
   "outputs": [
    {
     "data": {
      "text/plain": [
       "-0.4000103609308698"
      ]
     },
     "execution_count": 9,
     "metadata": {},
     "output_type": "execute_result"
    }
   ],
   "source": [
    "rent_ben = float(((data2-data1)) / data1) * 100\n",
    "rent_ben"
   ]
  },
  {
   "cell_type": "markdown",
   "id": "0ce708d2",
   "metadata": {},
   "source": [
    "# Traking Error\n",
    "\n",
    "\n",
    "El tracking error mide la desviación de la rentabilidad del fondo con respecto a su índice. Estadísticamente hablando, el tracking error es la desviación estándar de las diferencias de rentabilidad (fondo frente a benchmark) y cuantifica la  distancia de dicha diferencia con respecto a la diferencia media.\n"
   ]
  },
  {
   "cell_type": "code",
   "execution_count": 10,
   "id": "89b8b7b3",
   "metadata": {},
   "outputs": [
    {
     "data": {
      "text/plain": [
       "7.297613544879711e-14"
      ]
     },
     "execution_count": 10,
     "metadata": {},
     "output_type": "execute_result"
    }
   ],
   "source": [
    "traking_error = float(volt*((Beneficio_1 - rent_ben))) \n",
    "traking_error\n",
    "#Entre 0% y 2% hablaríamos de una gestión pasiva.\n",
    "#Si estamos entre un 2% y 5%, estaríamos ante una gestión con un poco más de riesgo, pero controlada\n",
    "#Un fondo con un tracking error superior al 5% indicaría que estaríamos ante una gestión activa"
   ]
  },
  {
   "cell_type": "markdown",
   "id": "00f520da",
   "metadata": {},
   "source": [
    "# Ratio de Informacion\n",
    "\n",
    "A mayor ratio el gestor está añadiendo más valor, medido como la rentabilidad por encima del mercado y acusa menos la volatilidad. Por ello, los inversores tienen que seleccionar fondos que tengan una ratio alta y que, por tanto, creen valor por encima del índice de referencia"
   ]
  },
  {
   "cell_type": "code",
   "execution_count": 11,
   "id": "dcfae76f",
   "metadata": {},
   "outputs": [
    {
     "data": {
      "text/plain": [
       "0.0008139226810540149"
      ]
     },
     "execution_count": 11,
     "metadata": {},
     "output_type": "execute_result"
    }
   ],
   "source": [
    "ratio_informacion = float(((Beneficio_1 - rent_ben)) / traking_error) / 100\n",
    "ratio_informacion"
   ]
  },
  {
   "cell_type": "markdown",
   "id": "d01490da",
   "metadata": {},
   "source": [
    "# VaR (historico) confianza del 95%\n",
    "\n",
    "El valor en riesgo es una técnica estadística para medir el riesgo financiero de una inversión. Indica la probabilidad del 5% de sufrir una determinada pérdida durante un periodo de tiempo (1 día). También se le conoce comúnmente como VaR (Value at Risk)"
   ]
  },
  {
   "cell_type": "code",
   "execution_count": 12,
   "id": "54a109b1",
   "metadata": {},
   "outputs": [
    {
     "data": {
      "text/plain": [
       "-11.680874061167987"
      ]
     },
     "execution_count": 12,
     "metadata": {},
     "output_type": "execute_result"
    }
   ],
   "source": [
    "Var_1 = np.percentile(vol, 0.05)\n",
    "VaR_ = float(Var_1 - data2)\n",
    "VaR = float((VaR_ * 100) / data2)\n",
    "VaR\n",
    "# PERDIDA MAXIMA DIARIA EN %"
   ]
  },
  {
   "cell_type": "markdown",
   "id": "e38793e0",
   "metadata": {},
   "source": [
    "# Drawdown Maximo %\n",
    "\n",
    "Caida maxima desde origen"
   ]
  },
  {
   "cell_type": "code",
   "execution_count": 13,
   "id": "16b3152e",
   "metadata": {},
   "outputs": [
    {
     "data": {
      "text/plain": [
       "-28.346214554194148"
      ]
     },
     "execution_count": 13,
     "metadata": {},
     "output_type": "execute_result"
    }
   ],
   "source": [
    "max_acum = vol.cummax()\n",
    "drawdown_1 = ((vol - max_acum) / max_acum)*100\n",
    "drawdown_1.min()"
   ]
  },
  {
   "cell_type": "markdown",
   "id": "08b6b2b3",
   "metadata": {},
   "source": [
    "# Drawdown Historico %\n",
    "\n",
    "Muestra la caida media desde origen"
   ]
  },
  {
   "cell_type": "code",
   "execution_count": 14,
   "id": "a7afadf4",
   "metadata": {},
   "outputs": [
    {
     "data": {
      "text/plain": [
       "-10.860467697879836"
      ]
     },
     "execution_count": 14,
     "metadata": {},
     "output_type": "execute_result"
    }
   ],
   "source": [
    "drawdown_1.mean()"
   ]
  },
  {
   "cell_type": "markdown",
   "id": "3c80c656",
   "metadata": {},
   "source": [
    "# Profit Factor\n",
    "\n",
    "Muestra el ratio entre el beneficio obtenido total / suma de todas las perdidas."
   ]
  },
  {
   "cell_type": "code",
   "execution_count": 82,
   "id": "cfcf8e8a",
   "metadata": {},
   "outputs": [
    {
     "data": {
      "text/plain": [
       "0.5481789686391192"
      ]
     },
     "execution_count": 82,
     "metadata": {},
     "output_type": "execute_result"
    }
   ],
   "source": [
    "pm = vol - vol.shift(1)\n",
    "pmp = pm.cummin()\n",
    "pmp_ = float(pmp.tail(1))\n",
    "pnf = pm.sum()\n",
    "pf = pnf / pmp_\n",
    "pf\n",
    "# UN PROFIT FACTOR >= 1 ES ACEPTABLE\n",
    "# UN PROFIT FACTOR >= 1.65 ES MUY BUENO\n",
    "# UN PROFIT FACTOR >= 2 ES EXCELENTE"
   ]
  },
  {
   "cell_type": "code",
   "execution_count": null,
   "id": "22f6b004",
   "metadata": {},
   "outputs": [],
   "source": []
  }
 ],
 "metadata": {
  "kernelspec": {
   "display_name": "Python 3 (ipykernel)",
   "language": "python",
   "name": "python3"
  },
  "language_info": {
   "codemirror_mode": {
    "name": "ipython",
    "version": 3
   },
   "file_extension": ".py",
   "mimetype": "text/x-python",
   "name": "python",
   "nbconvert_exporter": "python",
   "pygments_lexer": "ipython3",
   "version": "3.10.4"
  }
 },
 "nbformat": 4,
 "nbformat_minor": 5
}
